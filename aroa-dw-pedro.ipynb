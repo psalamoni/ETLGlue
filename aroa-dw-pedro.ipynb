{
 "cells": [
  {
   "cell_type": "markdown",
   "metadata": {},
   "source": [
    "# Importing Section"
   ]
  },
  {
   "cell_type": "code",
   "execution_count": 1,
   "metadata": {},
   "outputs": [],
   "source": [
    "import findspark\n",
    "findspark.init(\"C:\\Hadoop\\spark-3.0.0-bin-hadoop3.2\")\n",
    "from pyspark.sql import SparkSession\n",
    "spark = SparkSession.builder.appName('Training').getOrCreate()"
   ]
  },
  {
   "cell_type": "code",
   "execution_count": 2,
   "metadata": {},
   "outputs": [],
   "source": [
    "from pyspark.sql.functions import when,udf,lit,split"
   ]
  },
  {
   "cell_type": "code",
   "execution_count": 3,
   "metadata": {},
   "outputs": [],
   "source": [
    "from pyspark.sql.types import BooleanType"
   ]
  },
  {
   "cell_type": "code",
   "execution_count": 4,
   "metadata": {},
   "outputs": [],
   "source": [
    "import re"
   ]
  },
  {
   "cell_type": "code",
   "execution_count": 5,
   "metadata": {},
   "outputs": [],
   "source": [
    "from pyspark.sql.types import StructField,StringType,IntegerType,StructType"
   ]
  },
  {
   "cell_type": "markdown",
   "metadata": {},
   "source": [
    "# Reading CSV Section"
   ]
  },
  {
   "cell_type": "code",
   "execution_count": 6,
   "metadata": {},
   "outputs": [],
   "source": [
    "locationDF = spark.read.csv(\"dl/location.csv\", header=True, inferSchema=True)"
   ]
  },
  {
   "cell_type": "code",
   "execution_count": 7,
   "metadata": {},
   "outputs": [],
   "source": [
    "provinceDF = spark.read.csv(\"dl/province.csv\", header=True, inferSchema=True)"
   ]
  },
  {
   "cell_type": "code",
   "execution_count": 8,
   "metadata": {},
   "outputs": [],
   "source": [
    "countryDF = spark.read.csv(\"dl/country.csv\", header=True, inferSchema=True)"
   ]
  },
  {
   "cell_type": "code",
   "execution_count": 9,
   "metadata": {},
   "outputs": [],
   "source": [
    "carDF = spark.read.csv(\"dl/car.csv\", header=True, inferSchema=True)"
   ]
  },
  {
   "cell_type": "code",
   "execution_count": 10,
   "metadata": {},
   "outputs": [],
   "source": [
    "customerDF = spark.read.csv(\"dl/customer.csv\", header=True, inferSchema=True)"
   ]
  },
  {
   "cell_type": "code",
   "execution_count": 11,
   "metadata": {},
   "outputs": [],
   "source": [
    "customer_locationDF = spark.read.csv(path=[\"dl/customer_location.csv\",\n",
    "                                           \"dl/customer_location2.csv\",\n",
    "                                           \"dl/customer_location3.csv\",\n",
    "                                           \"dl/customer_location4.csv\"], header=True, inferSchema=True)"
   ]
  },
  {
   "cell_type": "code",
   "execution_count": 12,
   "metadata": {},
   "outputs": [],
   "source": [
    "timeDF = spark.read.csv(\"dl/time.csv\", header=True, inferSchema=True)"
   ]
  },
  {
   "cell_type": "markdown",
   "metadata": {},
   "source": [
    "# DF View"
   ]
  },
  {
   "cell_type": "code",
   "execution_count": 13,
   "metadata": {
    "scrolled": false
   },
   "outputs": [
    {
     "name": "stdout",
     "output_type": "stream",
     "text": [
      "+------+-------------------+-------+---------+-------+----------+\n",
      "|loc_id|            address|   city|postal_cd|prov_nm|country_nm|\n",
      "+------+-------------------+-------+---------+-------+----------+\n",
      "|     1| 10 Yonge st apt 50|Toronto|  M51 3W2|Ontario|    Canada|\n",
      "|     2|      3500 Bloor St|Toronto|  M6E 2I3|Ontario|    Canada|\n",
      "|     3|     200 College St|Toronto|  M4B 2B9|Ontario|    Canada|\n",
      "|     4|20 Yonge St apt 413|Toronto|  M51 3W2|Ontario|    Canada|\n",
      "|     5|      2600 Keele St|Toronto|  M2O 2P3|Ontario|    Canada|\n",
      "|     6|        10 St Clair|Toronto|  M3Q 4I2|Ontario|    Canada|\n",
      "|     7|   20 Sherbourne St|Toronto|  M2O BAD|Ontario|    Canada|\n",
      "|     8|      40 College St|Toronto|  M4B 2B9|Ontario|    Canada|\n",
      "|     9|      6001 Bloor St|Toronto|  M6E 2I3|Ontario|    Canada|\n",
      "|    10|       501 Queen St|Toronto|  M8K 1J3|Ontario|    Canada|\n",
      "|    11|       1004 King St|Toronto|  M9J 2K4|Ontario|    Canada|\n",
      "|    12|  201 Wellington St|Toronto|  M2E 2J3|Ontario|    Canada|\n",
      "|    13|  10 University Ave|Toronto|     null|Ontario|    Canada|\n",
      "|    14|      2501 Front St|Toronto|  M2L 2J3|Ontario|    Canada|\n",
      "|    15|    105 Bathurst St|Toronto|  M9L 1J1|Ontario|    Canada|\n",
      "|    16|    201 Bathurst St|Toronto|  M9L 1J1|Ontario|    Canada|\n",
      "|    17|       800 St Clair|Toronto|  M3Q 4I2|Ontario|    Canada|\n",
      "|    18|       501 Front St|Toronto|  M2L 2J3|Ontario|    Canada|\n",
      "|    19|       201 Yonge St|Toronto|  M51 3W2|   null|    Canada|\n",
      "|    20|       802 Bloor St|Toronto|  M6E 2I3|Ontario|    Canada|\n",
      "+------+-------------------+-------+---------+-------+----------+\n",
      "only showing top 20 rows\n",
      "\n"
     ]
    }
   ],
   "source": [
    "locationDF.show()"
   ]
  },
  {
   "cell_type": "code",
   "execution_count": 14,
   "metadata": {
    "scrolled": true
   },
   "outputs": [
    {
     "name": "stdout",
     "output_type": "stream",
     "text": [
      "+-----------+----------+-------------+----------------+\n",
      "|province_id|country_id|province_code|   province_name|\n",
      "+-----------+----------+-------------+----------------+\n",
      "|          1|         2|           AL|         Alabama|\n",
      "|          2|         2|           AK|          Alaska|\n",
      "|          3|         1|           AB|         Alberta|\n",
      "|          4|         2|           AZ|         Arizona|\n",
      "|          5|         2|           AR|        Arkansas|\n",
      "|          6|         1|           BC|British Columbia|\n",
      "|          7|         2|           CA|      California|\n",
      "|          8|         2|           CO|        Colorado|\n",
      "|          9|         2|           CT|     Connecticut|\n",
      "|         10|         2|           DE|        Delaware|\n",
      "|         11|         2|           FL|         Florida|\n",
      "|         12|         2|           GA|         Georgia|\n",
      "|         13|         2|           HI|          Hawaii|\n",
      "|         14|         2|           ID|           Idaho|\n",
      "|         15|         2|           IL|        Illinois|\n",
      "|         16|         2|           IN|         Indiana|\n",
      "|         17|         2|           IA|            Iowa|\n",
      "|         18|         2|           KS|          Kansas|\n",
      "|         19|         2|           KY|        Kentucky|\n",
      "|         20|         2|           LA|       Louisiana|\n",
      "+-----------+----------+-------------+----------------+\n",
      "only showing top 20 rows\n",
      "\n"
     ]
    }
   ],
   "source": [
    "provinceDF.show()"
   ]
  },
  {
   "cell_type": "code",
   "execution_count": 15,
   "metadata": {},
   "outputs": [
    {
     "name": "stdout",
     "output_type": "stream",
     "text": [
      "+----------+--------------------+--------------+\n",
      "|country_id|        country_name|country_iso_cd|\n",
      "+----------+--------------------+--------------+\n",
      "|         1|              Canada|           CAD|\n",
      "|         2|United States of ...|           USD|\n",
      "+----------+--------------------+--------------+\n",
      "\n"
     ]
    }
   ],
   "source": [
    "countryDF.show()"
   ]
  },
  {
   "cell_type": "code",
   "execution_count": 16,
   "metadata": {
    "scrolled": true
   },
   "outputs": [
    {
     "name": "stdout",
     "output_type": "stream",
     "text": [
      "+------+---------+---------+----+\n",
      "|car_id|car_brand|car_model|year|\n",
      "+------+---------+---------+----+\n",
      "|     1|   Volv 0|     XC40|2019|\n",
      "|     2|    Volvo|     XC60|201A|\n",
      "|     3|    Volvo|      S90|2020|\n",
      "|     4|    Volvo|      S60|2019|\n",
      "|     5|    Volvo|    P1800|1970|\n",
      "|     6|     Audi|       TT|2019|\n",
      "|     7|     Audi|       A3|2020|\n",
      "|     8|     Audi|       A4|2015|\n",
      "|     9|     Audi|       A6|2020|\n",
      "|    10|      BMW|      330|2019|\n",
      "|    11|      BMW|      340|2010|\n",
      "|    12|      BMW|      540|2020|\n",
      "|    13|      BMW|       M3|2019|\n",
      "|    14|      BMW|       XX|2020|\n",
      "+------+---------+---------+----+\n",
      "\n"
     ]
    }
   ],
   "source": [
    "carDF.show()"
   ]
  },
  {
   "cell_type": "code",
   "execution_count": 17,
   "metadata": {
    "scrolled": false
   },
   "outputs": [
    {
     "name": "stdout",
     "output_type": "stream",
     "text": [
      "+-------+------+-----------+\n",
      "|Cust_id|loc_id|     chg_dt|\n",
      "+-------+------+-----------+\n",
      "|      1|     1| 2019-01-21|\n",
      "|      2|     2| 2020-01-19|\n",
      "|      3|     3| 2019-02-27|\n",
      "|      4|     4| 2019-09-26|\n",
      "|      5|     5| 2019-05-07|\n",
      "|      6|     6| 2019-05-17|\n",
      "|      7|     7| 2020-03-26|\n",
      "|      8|     8| 2019-10-01|\n",
      "|      9|     9| 2019-10-03|\n",
      "|     10|    10| 2020-01-12|\n",
      "|     11|    11| 2019-06-19|\n",
      "|     12|    12| 2019-07-27|\n",
      "|     13|    13| 2019-05-03|\n",
      "|     14|    14| 2019-05-31|\n",
      "|     15|    15| 2020-03-22|\n",
      "|     16|    16|2020 Jan 12|\n",
      "|     17|    17|2019-Rea-10|\n",
      "|     18|    18| 2019-01-27|\n",
      "|     19|    19| 2019-06-25|\n",
      "|     20|    20| 2019-05-29|\n",
      "+-------+------+-----------+\n",
      "only showing top 20 rows\n",
      "\n"
     ]
    }
   ],
   "source": [
    "customer_locationDF.show()"
   ]
  },
  {
   "cell_type": "code",
   "execution_count": 18,
   "metadata": {},
   "outputs": [
    {
     "name": "stdout",
     "output_type": "stream",
     "text": [
      "+-------+----------+---+-----+----+\n",
      "|time_id|   time_dt|day|month|year|\n",
      "+-------+----------+---+-----+----+\n",
      "|      1|2019-01-01|  1|    1|2019|\n",
      "|      2|2019-01-02|  2|    1|2019|\n",
      "|      3|2019-01-03|  3|    1|2019|\n",
      "|      4|2019-01-04|  4|    1|2019|\n",
      "|      5|2019-01-05|  5|    1|2019|\n",
      "|      6|2019-01-06|  6|    1|2019|\n",
      "|      7|2019-01-07|  7|    1|2019|\n",
      "|      8|2019-01-08|  8|    1|2019|\n",
      "|      9|2019-01-09|  9|    1|2019|\n",
      "|     10|2019-01-10| 10|    1|2019|\n",
      "|     11|2019-01-11| 11|    1|2019|\n",
      "|     12|2019-01-12| 12|    1|2019|\n",
      "|     13|2019-01-13| 13|    1|2019|\n",
      "|     14|2019-01-14| 14|    1|2019|\n",
      "|     15|2019-01-15| 15|    1|2019|\n",
      "|     16|2019-01-16| 16|    1|2019|\n",
      "|     17|2019-01-17| 17|    1|2019|\n",
      "|     18|2019-01-18| 18|    1|2019|\n",
      "|     19|2019-01-19| 19|    1|2019|\n",
      "|     20|2019-01-20| 20|    1|2019|\n",
      "+-------+----------+---+-----+----+\n",
      "only showing top 20 rows\n",
      "\n"
     ]
    }
   ],
   "source": [
    "timeDF.show()"
   ]
  },
  {
   "cell_type": "markdown",
   "metadata": {},
   "source": [
    "# Data Quality Rules"
   ]
  },
  {
   "cell_type": "markdown",
   "metadata": {},
   "source": [
    "### Rule 1"
   ]
  },
  {
   "cell_type": "code",
   "execution_count": 19,
   "metadata": {},
   "outputs": [],
   "source": [
    "case1 = locationDF.postal_cd.rlike('[a-zA-Z]\\d[a-zA-Z]\\s\\d[a-zA-Z]\\d$|\\d\\d\\d\\d\\d$')"
   ]
  },
  {
   "cell_type": "code",
   "execution_count": 20,
   "metadata": {},
   "outputs": [],
   "source": [
    "locationDF = locationDF.withColumn('rule1', case1)"
   ]
  },
  {
   "cell_type": "code",
   "execution_count": 21,
   "metadata": {},
   "outputs": [],
   "source": [
    "def checkRegex(name,df,column,exp):\n",
    "    temp = df.withColumnRenamed(column,'ptemp')\n",
    "    result = temp.withColumn(name, temp.ptemp.rlike(exp)).drop('ptemp')\n",
    "    \n",
    "    return result"
   ]
  },
  {
   "cell_type": "code",
   "execution_count": 22,
   "metadata": {},
   "outputs": [],
   "source": [
    "locationDF = checkRegex('rule10',locationDF,'postal_cd','[a-zA-Z]\\d[a-zA-Z]\\s\\d[a-zA-Z]\\d$|\\d\\d\\d\\d\\d$')"
   ]
  },
  {
   "cell_type": "code",
   "execution_count": 23,
   "metadata": {},
   "outputs": [
    {
     "name": "stdout",
     "output_type": "stream",
     "text": [
      "+------+-------------------+-------+-------+----------+-----+------+\n",
      "|loc_id|            address|   city|prov_nm|country_nm|rule1|rule10|\n",
      "+------+-------------------+-------+-------+----------+-----+------+\n",
      "|     1| 10 Yonge st apt 50|Toronto|Ontario|    Canada|false| false|\n",
      "|     2|      3500 Bloor St|Toronto|Ontario|    Canada| true|  true|\n",
      "|     3|     200 College St|Toronto|Ontario|    Canada| true|  true|\n",
      "|     4|20 Yonge St apt 413|Toronto|Ontario|    Canada|false| false|\n",
      "|     5|      2600 Keele St|Toronto|Ontario|    Canada| true|  true|\n",
      "|     6|        10 St Clair|Toronto|Ontario|    Canada| true|  true|\n",
      "|     7|   20 Sherbourne St|Toronto|Ontario|    Canada|false| false|\n",
      "|     8|      40 College St|Toronto|Ontario|    Canada| true|  true|\n",
      "|     9|      6001 Bloor St|Toronto|Ontario|    Canada| true|  true|\n",
      "|    10|       501 Queen St|Toronto|Ontario|    Canada| true|  true|\n",
      "|    11|       1004 King St|Toronto|Ontario|    Canada| true|  true|\n",
      "|    12|  201 Wellington St|Toronto|Ontario|    Canada| true|  true|\n",
      "|    13|  10 University Ave|Toronto|Ontario|    Canada| null|  null|\n",
      "|    14|      2501 Front St|Toronto|Ontario|    Canada| true|  true|\n",
      "|    15|    105 Bathurst St|Toronto|Ontario|    Canada| true|  true|\n",
      "|    16|    201 Bathurst St|Toronto|Ontario|    Canada| true|  true|\n",
      "|    17|       800 St Clair|Toronto|Ontario|    Canada| true|  true|\n",
      "|    18|       501 Front St|Toronto|Ontario|    Canada| true|  true|\n",
      "|    19|       201 Yonge St|Toronto|   null|    Canada|false| false|\n",
      "|    20|       802 Bloor St|Toronto|Ontario|    Canada| true|  true|\n",
      "+------+-------------------+-------+-------+----------+-----+------+\n",
      "only showing top 20 rows\n",
      "\n"
     ]
    }
   ],
   "source": [
    "locationDF.show()"
   ]
  },
  {
   "cell_type": "markdown",
   "metadata": {},
   "source": [
    "### Rule 2"
   ]
  },
  {
   "cell_type": "code",
   "execution_count": 24,
   "metadata": {},
   "outputs": [],
   "source": [
    "case2 = locationDF.join(provinceDF.select('province_name'), locationDF.prov_nm == provinceDF.province_name, 'left')"
   ]
  },
  {
   "cell_type": "code",
   "execution_count": 25,
   "metadata": {},
   "outputs": [],
   "source": [
    "locationDF = case2.withColumn('rule2', when(case2.province_name.isNull(),False).otherwise(True)).drop('province_name')"
   ]
  },
  {
   "cell_type": "code",
   "execution_count": 26,
   "metadata": {},
   "outputs": [],
   "source": [
    "def checkLink(name,df1,column1,df2,column2):\n",
    "    \n",
    "    # Rename the column in the second dataframe to avoid ambiguity\n",
    "    temp = df2.withColumnRenamed(column2,'ptemp').select('ptemp')\n",
    "    \n",
    "    # Execute the left join to check links\n",
    "    case = df1.join(temp, column1 == temp.ptemp, 'left')\n",
    "    \n",
    "    # Create the column with true or false argument according to null values in left join\n",
    "    result = case.withColumn(name, when(case.ptemp.isNull(),False).otherwise(True)).drop('ptemp')\n",
    "    \n",
    "    return result"
   ]
  },
  {
   "cell_type": "code",
   "execution_count": 29,
   "metadata": {},
   "outputs": [],
   "source": [
    "locationDF = checkLink('rule20',locationDF,locationDF.prov_nm,provinceDF,'province_name')"
   ]
  },
  {
   "cell_type": "code",
   "execution_count": 30,
   "metadata": {},
   "outputs": [
    {
     "name": "stdout",
     "output_type": "stream",
     "text": [
      "+------+-------------------+-------+-------+----------+-----+------+-----+------+\n",
      "|loc_id|            address|   city|prov_nm|country_nm|rule1|rule10|rule2|rule20|\n",
      "+------+-------------------+-------+-------+----------+-----+------+-----+------+\n",
      "|     1| 10 Yonge st apt 50|Toronto|Ontario|    Canada|false| false| true|  true|\n",
      "|     2|      3500 Bloor St|Toronto|Ontario|    Canada| true|  true| true|  true|\n",
      "|     3|     200 College St|Toronto|Ontario|    Canada| true|  true| true|  true|\n",
      "|     4|20 Yonge St apt 413|Toronto|Ontario|    Canada|false| false| true|  true|\n",
      "|     5|      2600 Keele St|Toronto|Ontario|    Canada| true|  true| true|  true|\n",
      "|     6|        10 St Clair|Toronto|Ontario|    Canada| true|  true| true|  true|\n",
      "|     7|   20 Sherbourne St|Toronto|Ontario|    Canada|false| false| true|  true|\n",
      "|     8|      40 College St|Toronto|Ontario|    Canada| true|  true| true|  true|\n",
      "|     9|      6001 Bloor St|Toronto|Ontario|    Canada| true|  true| true|  true|\n",
      "|    10|       501 Queen St|Toronto|Ontario|    Canada| true|  true| true|  true|\n",
      "|    11|       1004 King St|Toronto|Ontario|    Canada| true|  true| true|  true|\n",
      "|    12|  201 Wellington St|Toronto|Ontario|    Canada| true|  true| true|  true|\n",
      "|    13|  10 University Ave|Toronto|Ontario|    Canada| null|  null| true|  true|\n",
      "|    14|      2501 Front St|Toronto|Ontario|    Canada| true|  true| true|  true|\n",
      "|    15|    105 Bathurst St|Toronto|Ontario|    Canada| true|  true| true|  true|\n",
      "|    16|    201 Bathurst St|Toronto|Ontario|    Canada| true|  true| true|  true|\n",
      "|    17|       800 St Clair|Toronto|Ontario|    Canada| true|  true| true|  true|\n",
      "|    18|       501 Front St|Toronto|Ontario|    Canada| true|  true| true|  true|\n",
      "|    19|       201 Yonge St|Toronto|   null|    Canada|false| false|false| false|\n",
      "|    20|       802 Bloor St|Toronto|Ontario|    Canada| true|  true| true|  true|\n",
      "+------+-------------------+-------+-------+----------+-----+------+-----+------+\n",
      "only showing top 20 rows\n",
      "\n"
     ]
    }
   ],
   "source": [
    "locationDF.show()"
   ]
  },
  {
   "cell_type": "markdown",
   "metadata": {},
   "source": [
    "### Rule 3"
   ]
  },
  {
   "cell_type": "code",
   "execution_count": 31,
   "metadata": {},
   "outputs": [],
   "source": [
    "case3 = locationDF.join(countryDF.select('country_name'), locationDF.country_nm == countryDF.country_name, 'left')"
   ]
  },
  {
   "cell_type": "code",
   "execution_count": 32,
   "metadata": {},
   "outputs": [],
   "source": [
    "locationDF = case3.withColumn('rule3', when(case3.country_name.isNull(),False).otherwise(True)).drop('country_name')"
   ]
  },
  {
   "cell_type": "code",
   "execution_count": 33,
   "metadata": {},
   "outputs": [],
   "source": [
    "locationDF = checkLink('rule30',locationDF,locationDF.country_nm,countryDF,'country_name')"
   ]
  },
  {
   "cell_type": "code",
   "execution_count": 34,
   "metadata": {},
   "outputs": [
    {
     "name": "stdout",
     "output_type": "stream",
     "text": [
      "+------+-------------------+-------+-------+----------+-----+------+-----+------+-----+------+\n",
      "|loc_id|            address|   city|prov_nm|country_nm|rule1|rule10|rule2|rule20|rule3|rule30|\n",
      "+------+-------------------+-------+-------+----------+-----+------+-----+------+-----+------+\n",
      "|     1| 10 Yonge st apt 50|Toronto|Ontario|    Canada|false| false| true|  true| true|  true|\n",
      "|     2|      3500 Bloor St|Toronto|Ontario|    Canada| true|  true| true|  true| true|  true|\n",
      "|     3|     200 College St|Toronto|Ontario|    Canada| true|  true| true|  true| true|  true|\n",
      "|     4|20 Yonge St apt 413|Toronto|Ontario|    Canada|false| false| true|  true| true|  true|\n",
      "|     5|      2600 Keele St|Toronto|Ontario|    Canada| true|  true| true|  true| true|  true|\n",
      "|     6|        10 St Clair|Toronto|Ontario|    Canada| true|  true| true|  true| true|  true|\n",
      "|     7|   20 Sherbourne St|Toronto|Ontario|    Canada|false| false| true|  true| true|  true|\n",
      "|     8|      40 College St|Toronto|Ontario|    Canada| true|  true| true|  true| true|  true|\n",
      "|     9|      6001 Bloor St|Toronto|Ontario|    Canada| true|  true| true|  true| true|  true|\n",
      "|    10|       501 Queen St|Toronto|Ontario|    Canada| true|  true| true|  true| true|  true|\n",
      "|    11|       1004 King St|Toronto|Ontario|    Canada| true|  true| true|  true| true|  true|\n",
      "|    12|  201 Wellington St|Toronto|Ontario|    Canada| true|  true| true|  true| true|  true|\n",
      "|    13|  10 University Ave|Toronto|Ontario|    Canada| null|  null| true|  true| true|  true|\n",
      "|    14|      2501 Front St|Toronto|Ontario|    Canada| true|  true| true|  true| true|  true|\n",
      "|    15|    105 Bathurst St|Toronto|Ontario|    Canada| true|  true| true|  true| true|  true|\n",
      "|    16|    201 Bathurst St|Toronto|Ontario|    Canada| true|  true| true|  true| true|  true|\n",
      "|    17|       800 St Clair|Toronto|Ontario|    Canada| true|  true| true|  true| true|  true|\n",
      "|    18|       501 Front St|Toronto|Ontario|    Canada| true|  true| true|  true| true|  true|\n",
      "|    19|       201 Yonge St|Toronto|   null|    Canada|false| false|false| false| true|  true|\n",
      "|    20|       802 Bloor St|Toronto|Ontario|    Canada| true|  true| true|  true| true|  true|\n",
      "+------+-------------------+-------+-------+----------+-----+------+-----+------+-----+------+\n",
      "only showing top 20 rows\n",
      "\n"
     ]
    }
   ],
   "source": [
    "locationDF.show()"
   ]
  },
  {
   "cell_type": "markdown",
   "metadata": {},
   "source": [
    "### Rule 4"
   ]
  },
  {
   "cell_type": "markdown",
   "metadata": {},
   "source": [
    "#### Rule 4_1"
   ]
  },
  {
   "cell_type": "code",
   "execution_count": 35,
   "metadata": {},
   "outputs": [],
   "source": [
    "case4_1 = carDF.car_brand.rlike('^[a-zA-Z]+$')"
   ]
  },
  {
   "cell_type": "code",
   "execution_count": 36,
   "metadata": {},
   "outputs": [],
   "source": [
    "carDF = carDF.withColumn('rule4_1', case4_1)"
   ]
  },
  {
   "cell_type": "code",
   "execution_count": 61,
   "metadata": {},
   "outputs": [],
   "source": [
    "carDF = checkRegex('rule4_10',carDF,'year','\\d+$')"
   ]
  },
  {
   "cell_type": "code",
   "execution_count": 62,
   "metadata": {},
   "outputs": [
    {
     "name": "stdout",
     "output_type": "stream",
     "text": [
      "+------+---------+-------+--------+\n",
      "|car_id|car_model|rule4_1|rule4_10|\n",
      "+------+---------+-------+--------+\n",
      "|     1|     XC40|  false|    true|\n",
      "|     2|     XC60|   true|   false|\n",
      "|     3|      S90|   true|    true|\n",
      "|     4|      S60|   true|    true|\n",
      "|     5|    P1800|   true|    true|\n",
      "|     6|       TT|   true|    true|\n",
      "|     7|       A3|   true|    true|\n",
      "|     8|       A4|   true|    true|\n",
      "|     9|       A6|   true|    true|\n",
      "|    10|      330|   true|    true|\n",
      "|    11|      340|   true|    true|\n",
      "|    12|      540|   true|    true|\n",
      "|    13|       M3|   true|    true|\n",
      "|    14|       XX|   true|    true|\n",
      "+------+---------+-------+--------+\n",
      "\n"
     ]
    }
   ],
   "source": [
    "carDF.show()"
   ]
  },
  {
   "cell_type": "markdown",
   "metadata": {},
   "source": [
    "#### Rule 4_2"
   ]
  },
  {
   "cell_type": "code",
   "execution_count": 27,
   "metadata": {},
   "outputs": [],
   "source": [
    "case4_2 = carDF.year.rlike('\\d+$')"
   ]
  },
  {
   "cell_type": "code",
   "execution_count": 28,
   "metadata": {},
   "outputs": [],
   "source": [
    "carDF = carDF.withColumn('rule4_2', case4_2)"
   ]
  },
  {
   "cell_type": "markdown",
   "metadata": {},
   "source": [
    "### Rule 5"
   ]
  },
  {
   "cell_type": "markdown",
   "metadata": {},
   "source": [
    "#### Rule 5_1"
   ]
  },
  {
   "cell_type": "code",
   "execution_count": 29,
   "metadata": {},
   "outputs": [],
   "source": [
    "split5_1 = split(customer_locationDF.chg_dt,'\\W').alias('new_chg_dt')"
   ]
  },
  {
   "cell_type": "code",
   "execution_count": 50,
   "metadata": {},
   "outputs": [],
   "source": [
    "# Define if the value is 4 numerical digits\n",
    "def isYear(arg):\n",
    "    if re.match('\\d\\d\\d\\d$', arg):\n",
    "        return True\n",
    "    else:\n",
    "        return False\n",
    "\n",
    "# Define if the value is a number in a 1-31 range    \n",
    "def isDay(arg):    \n",
    "    if re.match('^\\d{1,2}$', arg):\n",
    "        if int(arg)>0 and int(arg)<=31:\n",
    "            return True\n",
    "        else:\n",
    "            return False\n",
    "    else:\n",
    "        return False\n",
    "\n",
    "# Define if the value is considerable as a month and return it in a numerical format\n",
    "def isMonth(arg):\n",
    "    months = ['JANUARY','FEBRUARY','MARCH','APRIL','MAY','JUNE','JULY','SEPTEMBER','OCTOBER','NOVEMBER','DECEMBER']\n",
    "    \n",
    "    if re.match('^\\d{1,2}$', arg):\n",
    "        if int(arg)>0 and int(arg)<=12:\n",
    "            return arg\n",
    "        else:\n",
    "            return arg\n",
    "    elif any(re.match('^'+arg.upper(),month) for month in months):\n",
    "        month = next(i+1 for i,month in enumerate(months) if re.match('^'+arg.upper(),month))\n",
    "        return \"{0:0=2d}\".format(month)\n",
    "    else:\n",
    "        return False"
   ]
  },
  {
   "cell_type": "code",
   "execution_count": 55,
   "metadata": {},
   "outputs": [],
   "source": [
    "def getDate(row):    \n",
    "    if isYear(row[0]) and isMonth(row[1]) and isDay(row[2]):\n",
    "        return row[0]+'-'+str(isMonth(row[1]))+'-'+row[2]\n",
    "        \n",
    "    elif isDay(row[0]) and isMonth(row[1]) and isYear(row[2]):\n",
    "        return row[2]+'-'+str(isMonth(row[1]))+'-'+row[0]\n",
    "        \n",
    "    elif isMonth(row[0]) and isDay(row[1]) and isYear(row[2]):\n",
    "        return row[2]+'-'+str(isMonth(row[0]))+'-'+row[1]\n",
    "        \n",
    "    else:\n",
    "        return None\n",
    "getDateUDF = udf(getDate)"
   ]
  },
  {
   "cell_type": "code",
   "execution_count": 52,
   "metadata": {},
   "outputs": [],
   "source": [
    "def transformDateFormat(name,df,column):\n",
    "    case = split(column,'\\W').alias(name)\n",
    "    \n",
    "    result = df.withColumn(name, getDateUDF(case))\n",
    "    \n",
    "    return result   "
   ]
  },
  {
   "cell_type": "code",
   "execution_count": 32,
   "metadata": {},
   "outputs": [],
   "source": [
    "case5_1 = customer_locationDF.join(timeDF.select('time_dt'), getDateUDF(split5_1) == timeDF.time_dt, 'left')"
   ]
  },
  {
   "cell_type": "code",
   "execution_count": 33,
   "metadata": {
    "scrolled": true
   },
   "outputs": [],
   "source": [
    "customer_locationDF = case5_1.withColumn('rule5_1', when(case5_1.time_dt.isNull(),False).otherwise(True)).drop('time_dt')"
   ]
  },
  {
   "cell_type": "code",
   "execution_count": 56,
   "metadata": {},
   "outputs": [],
   "source": [
    "customer_locationDF = transformDateFormat('new_date',customer_locationDF,customer_locationDF.chg_dt)"
   ]
  },
  {
   "cell_type": "code",
   "execution_count": 59,
   "metadata": {},
   "outputs": [],
   "source": [
    "customer_locationDF = checkLink('rule5_10',customer_locationDF,customer_locationDF.new_date,timeDF,'time_dt')"
   ]
  },
  {
   "cell_type": "code",
   "execution_count": 60,
   "metadata": {},
   "outputs": [
    {
     "name": "stdout",
     "output_type": "stream",
     "text": [
      "+-------+------+-----------+----------+--------+\n",
      "|Cust_id|loc_id|     chg_dt|  new_date|rule5_10|\n",
      "+-------+------+-----------+----------+--------+\n",
      "|      1|     1| 2019-01-21|2019-01-21|    true|\n",
      "|      2|     2| 2020-01-19|2020-01-19|    true|\n",
      "|      3|     3| 2019-02-27|2019-02-27|    true|\n",
      "|      4|     4| 2019-09-26|2019-09-26|    true|\n",
      "|      5|     5| 2019-05-07|2019-05-07|    true|\n",
      "|      6|     6| 2019-05-17|2019-05-17|    true|\n",
      "|      7|     7| 2020-03-26|2020-03-26|    true|\n",
      "|      8|     8| 2019-10-01|2019-10-01|    true|\n",
      "|      9|     9| 2019-10-03|2019-10-03|    true|\n",
      "|     10|    10| 2020-01-12|2020-01-12|    true|\n",
      "|     11|    11| 2019-06-19|2019-06-19|    true|\n",
      "|     12|    12| 2019-07-27|2019-07-27|    true|\n",
      "|     13|    13| 2019-05-03|2019-05-03|    true|\n",
      "|     14|    14| 2019-05-31|2019-05-31|    true|\n",
      "|     15|    15| 2020-03-22|2020-03-22|    true|\n",
      "|     16|    16|2020 Jan 12|2020-01-12|    true|\n",
      "|     17|    17|2019-Rea-10|      null|   false|\n",
      "|     18|    18| 2019-01-27|2019-01-27|    true|\n",
      "|     19|    19| 2019-06-25|2019-06-25|    true|\n",
      "|     20|    20| 2019-05-29|2019-05-29|    true|\n",
      "+-------+------+-----------+----------+--------+\n",
      "only showing top 20 rows\n",
      "\n"
     ]
    }
   ],
   "source": [
    "customer_locationDF.show()"
   ]
  },
  {
   "cell_type": "markdown",
   "metadata": {},
   "source": [
    "#### Rule 5_2"
   ]
  },
  {
   "cell_type": "code",
   "execution_count": 34,
   "metadata": {},
   "outputs": [],
   "source": [
    "temp = customerDF.withColumnRenamed('cust_id','temp').select('temp')"
   ]
  },
  {
   "cell_type": "code",
   "execution_count": 35,
   "metadata": {
    "scrolled": true
   },
   "outputs": [],
   "source": [
    "case5_2 = customer_locationDF.join(temp, customer_locationDF.Cust_id == temp.temp, how='left')"
   ]
  },
  {
   "cell_type": "code",
   "execution_count": 36,
   "metadata": {},
   "outputs": [],
   "source": [
    "customer_locationDF = case5_2.withColumn('rule5_2', when(case5_2.temp.isNull(),False).otherwise(True)).drop('temp')"
   ]
  },
  {
   "cell_type": "markdown",
   "metadata": {},
   "source": [
    "#### Rule 5_3"
   ]
  },
  {
   "cell_type": "code",
   "execution_count": 37,
   "metadata": {},
   "outputs": [],
   "source": [
    "temp = locationDF.withColumnRenamed('loc_id', 'temp').select('temp')"
   ]
  },
  {
   "cell_type": "code",
   "execution_count": 38,
   "metadata": {},
   "outputs": [],
   "source": [
    "case5_3 = customer_locationDF.join(temp, customer_locationDF.loc_id == temp.temp, 'left')"
   ]
  },
  {
   "cell_type": "code",
   "execution_count": 39,
   "metadata": {},
   "outputs": [],
   "source": [
    "customer_locationDF = case5_3.withColumn('rule5_3', when(case5_3.temp.isNull(),False).otherwise(True)).drop('temp')"
   ]
  },
  {
   "cell_type": "code",
   "execution_count": 42,
   "metadata": {
    "scrolled": false
   },
   "outputs": [
    {
     "name": "stdout",
     "output_type": "stream",
     "text": [
      "+-------+------+------+-------+-------+-------+\n",
      "|Cust_id|loc_id|chg_dt|rule5_1|rule5_2|rule5_3|\n",
      "+-------+------+------+-------+-------+-------+\n",
      "+-------+------+------+-------+-------+-------+\n",
      "\n"
     ]
    }
   ],
   "source": [
    "customer_locationDF.filter(customer_locationDF.rule5_3==False).show()"
   ]
  },
  {
   "cell_type": "code",
   "execution_count": 48,
   "metadata": {},
   "outputs": [
    {
     "ename": "TypeError",
     "evalue": "filter() got an unexpected keyword argument 'column'",
     "output_type": "error",
     "traceback": [
      "\u001b[1;31m---------------------------------------------------------------------------\u001b[0m",
      "\u001b[1;31mTypeError\u001b[0m                                 Traceback (most recent call last)",
      "\u001b[1;32m<ipython-input-48-bd3aeea01369>\u001b[0m in \u001b[0;36m<module>\u001b[1;34m\u001b[0m\n\u001b[1;32m----> 1\u001b[1;33m \u001b[0mlocationDF\u001b[0m\u001b[1;33m.\u001b[0m\u001b[0mfilter\u001b[0m\u001b[1;33m(\u001b[0m\u001b[0mcolumn\u001b[0m\u001b[1;33m=\u001b[0m\u001b[1;34m'city'\u001b[0m\u001b[1;33m)\u001b[0m\u001b[1;33m\u001b[0m\u001b[1;33m\u001b[0m\u001b[0m\n\u001b[0m",
      "\u001b[1;31mTypeError\u001b[0m: filter() got an unexpected keyword argument 'column'"
     ]
    }
   ],
   "source": [
    "locationDF."
   ]
  }
 ],
 "metadata": {
  "kernelspec": {
   "display_name": "Python 3",
   "language": "python",
   "name": "python3"
  },
  "language_info": {
   "codemirror_mode": {
    "name": "ipython",
    "version": 3
   },
   "file_extension": ".py",
   "mimetype": "text/x-python",
   "name": "python",
   "nbconvert_exporter": "python",
   "pygments_lexer": "ipython3",
   "version": "3.8.3"
  }
 },
 "nbformat": 4,
 "nbformat_minor": 4
}
